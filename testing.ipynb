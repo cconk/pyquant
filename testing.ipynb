{
 "cells": [
  {
   "cell_type": "code",
   "execution_count": 1,
   "metadata": {},
   "outputs": [
    {
     "name": "stderr",
     "output_type": "stream",
     "text": [
      "c:\\Users\\chadc\\anaconda3\\envs\\quant-stack\\lib\\site-packages\\openbb_terminal\\stocks\\options\\tmx_model.py:52: FutureWarning: Passing literal html to 'read_html' is deprecated and will be removed in a future version. To read from a literal string, wrap it in a 'StringIO' object.\n",
      "  options_listings = pd.read_html(r.text)\n"
     ]
    },
    {
     "data": {
      "text/html": [
       "<pre style=\"white-space:pre;overflow-x:auto;line-height:normal;font-family:Menlo,'DejaVu Sans Mono',consolas,'Courier New',monospace\"><span style=\"color: #808000; text-decoration-color: #808000\">Forecasting Toolkit is disabled. To use the Forecasting features please install the toolkit following the instructions here: https://my.openbb.co/app/sdk/installation</span>\n",
       "\n",
       "</pre>\n"
      ],
      "text/plain": [
       "\u001b[33mForecasting Toolkit is disabled. To use the Forecasting features please install the toolkit following the instructions here: https://my.openbb.co/app/sdk/installation\u001b[0m\n",
       "\n"
      ]
     },
     "metadata": {},
     "output_type": "display_data"
    },
    {
     "data": {
      "text/html": [
       "<pre style=\"white-space:pre;overflow-x:auto;line-height:normal;font-family:Menlo,'DejaVu Sans Mono',consolas,'Courier New',monospace\"><span style=\"color: #808000; text-decoration-color: #808000\">Portfolio Optimization Toolkit is disabled. To use the Optimization features please install the toolkit following the instructions here: https://my.openbb.co/app/sdk/installation</span>\n",
       "\n",
       "</pre>\n"
      ],
      "text/plain": [
       "\u001b[33mPortfolio Optimization Toolkit is disabled. To use the Optimization features please install the toolkit following the instructions here: https://my.openbb.co/app/sdk/installation\u001b[0m\n",
       "\n"
      ]
     },
     "metadata": {},
     "output_type": "display_data"
    },
    {
     "name": "stdout",
     "output_type": "stream",
     "text": [
      "Hello World\n",
      "                  Date                                        Description  \\\n",
      "0  2024-04-25 10:20:05  Is SPDR Russell 1000 Low Volatility Focus ETF ...   \n",
      "4  2024-04-24 16:34:12  SPDR Metals & Mining ETF ( $XME) Found Buyers ...   \n",
      "25 2024-04-24 13:31:00  Stock Market News for Apr 24, 2024 - Yahoo Fin...   \n",
      "3  2024-04-24 11:19:58  Should You Invest in the Financial Select Sect...   \n",
      "7  2024-04-24 10:20:07  Should SPDR S&P 500 ETF (SPY) Be on Your Inves...   \n",
      "12 2024-04-24 10:20:07  Is SPDR S&P Emerging Markets Dividend ETF (EDI...   \n",
      "17 2024-04-23 20:39:12  Is SPDR S&P Oil & Gas Exploration & Production...   \n",
      "5  2024-04-23 16:06:14  SPDR Metals & Mining ETF ( $XME) Found Buyers ...   \n",
      "16 2024-04-23 15:39:13  Should SPDR Russell 1000 Yield Focus ETF (ONEY...   \n",
      "9  2024-04-23 15:35:00  SPDR Metals & Mining ETF ( $XME) Found Buyers ...   \n",
      "\n",
      "                                                  URL Sentiment  \n",
      "0   https://news.google.com/rss/articles/CBMiTmh0d...   neutral  \n",
      "4   https://news.google.com/rss/articles/CBMic2h0d...  positive  \n",
      "25  https://news.google.com/rss/articles/CBMiSWh0d...   neutral  \n",
      "3   https://news.google.com/rss/articles/CBMiZmh0d...   neutral  \n",
      "7   https://news.google.com/rss/articles/CBMiQGh0d...   neutral  \n",
      "12  https://news.google.com/rss/articles/CBMiTmh0d...   neutral  \n",
      "17  https://news.google.com/rss/articles/CBMiTGh0d...   neutral  \n",
      "5   https://news.google.com/rss/articles/CBMidWh0d...  positive  \n",
      "16  https://news.google.com/rss/articles/CBMiT2h0d...   neutral  \n",
      "9   https://news.google.com/rss/articles/CBMinwFod...  positive  \n",
      "completed\n"
     ]
    }
   ],
   "source": [
    "from openbb_terminal.sdk import openbb\n",
    "\n",
    "from langchain.chains import LLMChain\n",
    "from langchain.prompts import PromptTemplate\n",
    "from langchain.chat_models import ChatOpenAI\n",
    "\n",
    "from dotenv import load_dotenv\n",
    "load_dotenv()\n",
    "\n",
    "llm = ChatOpenAI(model=\"gpt-4\", temperature=0)\n",
    "\n",
    "print(\"Hello World\")\n",
    "\n",
    "prompt = \"\"\"\n",
    "Is the predominant sentiment in the following statement positive, negative, or neutral?\n",
    "---------\n",
    "Statement: {statement}\n",
    "---------\n",
    "Respond with one word in lowercase: positive, negative, or neutral.\n",
    "Sentiment:\n",
    "\"\"\"\n",
    "\n",
    "chain = LLMChain.from_string(\n",
    "    llm=llm,\n",
    "    template=prompt\n",
    ")\n",
    "\n",
    "SPDR = openbb.news(term=\"SPDR\")\n",
    "SPDR[\"Sentiment\"] = SPDR.Description.apply(chain.run)\n",
    "SPDR[[\"Description\", \"Sentiment\"]]\n",
    "print(SPDR)\n",
    "print(\"completed\")\n",
    "\n",
    "\n"
   ]
  }
 ],
 "metadata": {
  "kernelspec": {
   "display_name": "Python 3 (ipykernel)",
   "language": "python",
   "name": "python3"
  },
  "language_info": {
   "codemirror_mode": {
    "name": "ipython",
    "version": 3
   },
   "file_extension": ".py",
   "mimetype": "text/x-python",
   "name": "python",
   "nbconvert_exporter": "python",
   "pygments_lexer": "ipython3",
   "version": "3.9.13"
  }
 },
 "nbformat": 4,
 "nbformat_minor": 4
}
