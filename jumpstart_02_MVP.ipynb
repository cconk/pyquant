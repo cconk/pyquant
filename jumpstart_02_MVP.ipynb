{
 "cells": [
  {
   "cell_type": "code",
   "execution_count": 1,
   "id": "ca169e69-537e-4c65-b582-d45a1944cc63",
   "metadata": {},
   "outputs": [
    {
     "data": {
      "text/html": [
       "<pre style=\"white-space:pre;overflow-x:auto;line-height:normal;font-family:Menlo,'DejaVu Sans Mono',consolas,'Courier New',monospace\"><span style=\"color: #808000; text-decoration-color: #808000\">Forecasting Toolkit is disabled. To use the Forecasting features please install the toolkit following the instructions here: https://my.openbb.co/app/sdk/installation</span>\n",
       "\n",
       "</pre>\n"
      ],
      "text/plain": [
       "\u001b[33mForecasting Toolkit is disabled. To use the Forecasting features please install the toolkit following the instructions here: https://my.openbb.co/app/sdk/installation\u001b[0m\n",
       "\n"
      ]
     },
     "metadata": {},
     "output_type": "display_data"
    },
    {
     "data": {
      "text/html": [
       "<pre style=\"white-space:pre;overflow-x:auto;line-height:normal;font-family:Menlo,'DejaVu Sans Mono',consolas,'Courier New',monospace\"><span style=\"color: #808000; text-decoration-color: #808000\">Portfolio Optimization Toolkit is disabled. To use the Optimization features please install the toolkit following the instructions here: https://my.openbb.co/app/sdk/installation</span>\n",
       "\n",
       "</pre>\n"
      ],
      "text/plain": [
       "\u001b[33mPortfolio Optimization Toolkit is disabled. To use the Optimization features please install the toolkit following the instructions here: https://my.openbb.co/app/sdk/installation\u001b[0m\n",
       "\n"
      ]
     },
     "metadata": {},
     "output_type": "display_data"
    }
   ],
   "source": [
    "# Import the necessary libraries\n",
    "import pandas as pd\n",
    "import quantstats as qs\n",
    "from openbb_terminal.sdk import openbb"
   ]
  },
  {
   "cell_type": "code",
   "execution_count": 3,
   "id": "8bec5099-9ae8-43fc-b7ee-6e6f494ed463",
   "metadata": {},
   "outputs": [],
   "source": [
    "# Fetch stock data for a list of stocks using the OpenBB terminal.\n",
    "# We have selected FAANG stocks for this analysis.\n",
    "tickers = [\"META\", \"AAPL\", \"AMZN\", \"NFLX\", \"GOOG\"]\n",
    "data = openbb.economy.index(\n",
    "    tickers, \n",
    "    start_date=\"2010-01-01\", \n",
    "    end_date=\"2022-03-28\"\n",
    ")"
   ]
  },
  {
   "cell_type": "code",
   "execution_count": 4,
   "id": "5bbd6c88-2210-4723-acd5-29ef816fed37",
   "metadata": {},
   "outputs": [],
   "source": [
    "# Define the lookback period for momentum calculation.\n",
    "# Here, we're setting it to approximately 12 months\n",
    "# (with an average of 21 trading days per month).\n",
    "lookback = 12 * 21\n",
    "\n",
    "# We want to select and trade the top 3 assets based on their momentum.\n",
    "traded_count = 3\n",
    "\n",
    "# Define initial cash and set the cash to this value.\n",
    "initial_cash = 100000\n",
    "cash = initial_cash\n",
    "\n",
    "# Initialize our portfolio as an empty dictionary.\n",
    "portfolio = {}\n",
    "\n",
    "# Initialize a pandas Series to keep track of our portfolio's value over time.\n",
    "portfolio_value = pd.Series(index=data.index)"
   ]
  },
  {
   "cell_type": "code",
   "execution_count": 5,
   "id": "b20af14c-aa7d-43e6-9012-ba116aab1f34",
   "metadata": {},
   "outputs": [],
   "source": [
    "def rebalance(data, current_date):\n",
    "    \"\"\"\n",
    "    Determine which assets to hold based on momentum.\n",
    "    \"\"\"\n",
    "    # Calculate momentum for each asset using a rolling mean and then percentage change.\n",
    "    momentum = data.rolling(lookback).mean().pct_change()\n",
    "\n",
    "    # Get the momentum values for the specific current_date.\n",
    "    momentum_on_date = momentum.loc[current_date]\n",
    "\n",
    "    # Sort the assets by momentum in descending order.\n",
    "    sorted_by_momentum = momentum_on_date.sort_values(ascending=False)\n",
    "\n",
    "    # Take the top assets based on the number defined by 'traded_count'.\n",
    "    selected_assets = sorted_by_momentum.index[:traded_count]\n",
    "\n",
    "    return selected_assets"
   ]
  },
  {
   "cell_type": "code",
   "execution_count": 6,
   "id": "c7c2f8ac-503e-4d5e-9b4a-de83026a1eaa",
   "metadata": {},
   "outputs": [],
   "source": [
    "# Iterate over each date in our dataset.\n",
    "for date in data.index:\n",
    "    # Calculate the current value of the portfolio on the given date.\n",
    "    current_value = 0\n",
    "    for ticker in tickers:\n",
    "        current_value += portfolio.get(ticker, 0) * data.loc[date, ticker]\n",
    "\n",
    "    # Add any uninvested cash to the current portfolio value.\n",
    "    current_value += cash\n",
    "\n",
    "    # Store the current value in the portfolio_value series.\n",
    "    portfolio_value.loc[date] = current_value\n",
    "\n",
    "    # If it's the first day of the month, we rebalance our portfolio.\n",
    "    if date.day == 1:\n",
    "        # First, sell all our current holdings.\n",
    "        for ticker in tickers:\n",
    "            cash += portfolio.get(ticker, 0) * data.loc[date, ticker]\n",
    "\n",
    "        # Reset the portfolio to an empty state.\n",
    "        portfolio = {}\n",
    "\n",
    "        # Decide which assets to buy based on their momentum.\n",
    "        selected_assets = rebalance(data, date)\n",
    "\n",
    "        # Equally divide our cash among the selected assets.\n",
    "        cash_per_asset = cash / traded_count\n",
    "\n",
    "        # Purchase the selected assets.\n",
    "        for asset in selected_assets:\n",
    "            portfolio[asset] = cash_per_asset / data.loc[date, asset]\n",
    "            cash -= cash_per_asset"
   ]
  },
  {
   "cell_type": "code",
   "execution_count": 7,
   "id": "85428f5b-677a-493f-af07-546c293cfa83",
   "metadata": {},
   "outputs": [],
   "source": [
    "returns = portfolio_value.pct_change()"
   ]
  },
  {
   "cell_type": "code",
   "execution_count": 8,
   "id": "4afcb261-0cd7-423a-883d-b23dadf1ea6f",
   "metadata": {},
   "outputs": [
    {
     "name": "stdout",
     "output_type": "stream",
     "text": [
      "                           Strategy\n",
      "-------------------------  ----------\n",
      "Start Period               2012-05-21\n",
      "End Period                 2022-03-25\n",
      "Risk-Free Rate             0.0%\n",
      "Time in Market             100.0%\n",
      "\n",
      "Cumulative Return          878.71%\n",
      "CAGR﹪                     17.34%\n",
      "\n",
      "Sharpe                     0.99\n",
      "Prob. Sharpe Ratio         99.89%\n",
      "Smart Sharpe               0.92\n",
      "Sortino                    1.41\n",
      "Smart Sortino              1.31\n",
      "Sortino/√2                 1.0\n",
      "Smart Sortino/√2           0.93\n",
      "Omega                      1.19\n",
      "\n",
      "Max Drawdown               -35.75%\n",
      "Longest DD Days            476\n",
      "Volatility (ann.)          27.25%\n",
      "Calmar                     0.49\n",
      "Skew                       -0.34\n",
      "Kurtosis                   4.79\n",
      "\n",
      "Expected Daily %           0.09%\n",
      "Expected Monthly %         1.94%\n",
      "Expected Yearly %          23.04%\n",
      "Kelly Criterion            8.86%\n",
      "Risk of Ruin               0.0%\n",
      "Daily Value-at-Risk        -2.72%\n",
      "Expected Shortfall (cVaR)  -2.72%\n",
      "\n",
      "Max Consecutive Wins       10\n",
      "Max Consecutive Losses     10\n",
      "Gain/Pain Ratio            0.19\n",
      "Gain/Pain (1M)             1.22\n",
      "\n",
      "Payoff Ratio               0.98\n",
      "Profit Factor              1.19\n",
      "Common Sense Ratio         1.15\n",
      "CPC Index                  0.64\n",
      "Tail Ratio                 0.97\n",
      "Outlier Win Ratio          3.8\n",
      "Outlier Loss Ratio         3.86\n",
      "\n",
      "MTD                        5.53%\n",
      "3M                         -18.67%\n",
      "6M                         -17.1%\n",
      "YTD                        -17.92%\n",
      "1Y                         5.93%\n",
      "3Y (ann.)                  13.05%\n",
      "5Y (ann.)                  16.48%\n",
      "10Y (ann.)                 17.34%\n",
      "All-time (ann.)            17.34%\n",
      "\n",
      "Best Day                   10.6%\n",
      "Worst Day                  -12.7%\n",
      "Best Month                 21.53%\n",
      "Worst Month                -14.19%\n",
      "Best Year                  60.74%\n",
      "Worst Year                 -17.92%\n",
      "\n",
      "Avg. Drawdown              -3.47%\n",
      "Avg. Drawdown Days         21\n",
      "Recovery Factor            7.41\n",
      "Ulcer Index                0.09\n",
      "Serenity Index             2.87\n",
      "\n",
      "Avg. Up Month              6.4%\n",
      "Avg. Down Month            -5.42%\n",
      "Win Days %                 54.82%\n",
      "Win Month %                64.41%\n",
      "Win Quarter %              70.0%\n",
      "Win Year %                 81.82%\n"
     ]
    }
   ],
   "source": [
    "qs.reports.metrics(\n",
    "    returns,\n",
    "    mode=\"full\"\n",
    ")"
   ]
  },
  {
   "cell_type": "code",
   "execution_count": null,
   "id": "f2e4148b-eddb-4211-9e57-a4070a3781d0",
   "metadata": {},
   "outputs": [],
   "source": []
  }
 ],
 "metadata": {
  "kernelspec": {
   "display_name": "Python 3 (ipykernel)",
   "language": "python",
   "name": "python3"
  },
  "language_info": {
   "codemirror_mode": {
    "name": "ipython",
    "version": 3
   },
   "file_extension": ".py",
   "mimetype": "text/x-python",
   "name": "python",
   "nbconvert_exporter": "python",
   "pygments_lexer": "ipython3",
   "version": "3.9.13"
  }
 },
 "nbformat": 4,
 "nbformat_minor": 5
}
