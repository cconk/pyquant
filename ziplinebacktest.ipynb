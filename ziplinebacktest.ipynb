{
 "cells": [
  {
   "cell_type": "code",
   "execution_count": 7,
   "id": "fc7698a8",
   "metadata": {},
   "outputs": [],
   "source": [
    "import os\n",
    "import pandas as pd\n",
    "from zipline import run_algorithm\n",
    "from zipline.api import (\n",
    "    date_rules,\n",
    "    order_target_percent,\n",
    "    schedule_function,\n",
    "    symbol,\n",
    "    time_rules,\n",
    ")\n",
    "\n",
    "from zipline.data import bundles\n",
    "from zipline.finance import commission, slippage"
   ]
  },
  {
   "cell_type": "code",
   "execution_count": 8,
   "id": "1fc94e46",
   "metadata": {},
   "outputs": [
    {
     "name": "stderr",
     "output_type": "stream",
     "text": [
      "C:\\Users\\chadc\\anaconda3\\envs\\quant-stack\\lib\\site-packages\\zipline\\data\\bundles\\quandl.py:106: FutureWarning: The provided callable <function amin at 0x00000186B81D3790> is currently using SeriesGroupBy.min. In a future version of pandas, the provided callable will be used directly. To keep current behavior pass the string \"min\" instead.\n",
      "  data = data.groupby(by=\"symbol\").agg({\"date\": [np.min, np.max]})\n",
      "C:\\Users\\chadc\\anaconda3\\envs\\quant-stack\\lib\\site-packages\\zipline\\data\\bundles\\quandl.py:106: FutureWarning: The provided callable <function amax at 0x00000186B81D35E0> is currently using SeriesGroupBy.max. In a future version of pandas, the provided callable will be used directly. To keep current behavior pass the string \"max\" instead.\n",
      "  data = data.groupby(by=\"symbol\").agg({\"date\": [np.min, np.max]})\n",
      "C:\\Users\\chadc\\anaconda3\\envs\\quant-stack\\lib\\site-packages\\zipline\\data\\bcolz_daily_bars.py:341: UserWarning: Ignoring 1 values because they are out of bounds for uint32:\n",
      "             open  high   low  close        volume  ex_dividend  split_ratio\n",
      "2011-04-11  1.79  1.84  1.55    1.7  6.674913e+09          0.0          1.0\n",
      "  winsorise_uint32(raw_data, invalid_data_behavior, \"volume\", *OHLC)\n",
      "Couldn't compute ratio for dividend sid=67, ex_date=2017-11-09, amount=0.620\n",
      "Couldn't compute ratio for dividend sid=93, ex_date=2017-11-09, amount=0.240\n",
      "Couldn't compute ratio for dividend sid=161, ex_date=2017-11-09, amount=0.110\n",
      "Couldn't compute ratio for dividend sid=283, ex_date=2017-11-09, amount=0.415\n",
      "Couldn't compute ratio for dividend sid=298, ex_date=2017-11-09, amount=1.420\n",
      "Couldn't compute ratio for dividend sid=318, ex_date=2017-11-09, amount=0.330\n",
      "Couldn't compute ratio for dividend sid=434, ex_date=2017-11-09, amount=0.110\n",
      "Couldn't compute ratio for dividend sid=516, ex_date=1996-05-30, amount=0.310\n",
      "Couldn't compute ratio for dividend sid=524, ex_date=2017-11-09, amount=0.050\n",
      "Couldn't compute ratio for dividend sid=556, ex_date=2017-11-09, amount=0.075\n",
      "Couldn't compute ratio for dividend sid=578, ex_date=2017-11-09, amount=0.160\n",
      "Couldn't compute ratio for dividend sid=605, ex_date=2017-11-09, amount=0.040\n",
      "Couldn't compute ratio for dividend sid=666, ex_date=1990-03-26, amount=0.140\n",
      "Couldn't compute ratio for dividend sid=694, ex_date=1990-03-27, amount=0.100\n",
      "Couldn't compute ratio for dividend sid=723, ex_date=2017-11-09, amount=1.620\n",
      "Couldn't compute ratio for dividend sid=758, ex_date=2017-11-09, amount=0.500\n",
      "Couldn't compute ratio for dividend sid=788, ex_date=2017-11-09, amount=0.060\n",
      "Couldn't compute ratio for dividend sid=859, ex_date=1995-05-09, amount=0.100\n",
      "Couldn't compute ratio for dividend sid=904, ex_date=2017-11-09, amount=0.135\n",
      "Couldn't compute ratio for dividend sid=975, ex_date=2017-11-09, amount=0.030\n",
      "Couldn't compute ratio for dividend sid=1057, ex_date=2017-11-09, amount=0.250\n",
      "Couldn't compute ratio for dividend sid=1088, ex_date=1990-03-26, amount=0.240\n",
      "Couldn't compute ratio for dividend sid=1091, ex_date=2017-11-09, amount=0.075\n",
      "Couldn't compute ratio for dividend sid=1111, ex_date=1993-03-04, amount=0.070\n",
      "Couldn't compute ratio for dividend sid=1172, ex_date=2017-11-09, amount=0.130\n",
      "Couldn't compute ratio for dividend sid=1209, ex_date=2017-11-09, amount=0.010\n",
      "Couldn't compute ratio for dividend sid=1322, ex_date=1995-05-25, amount=0.150\n",
      "Couldn't compute ratio for dividend sid=1441, ex_date=2017-11-09, amount=1.500\n",
      "Couldn't compute ratio for dividend sid=1525, ex_date=2017-11-09, amount=0.090\n",
      "Couldn't compute ratio for dividend sid=1600, ex_date=2015-07-06, amount=16.500\n",
      "Couldn't compute ratio for dividend sid=1642, ex_date=2017-11-09, amount=0.270\n",
      "Couldn't compute ratio for dividend sid=1748, ex_date=2017-11-09, amount=0.740\n",
      "Couldn't compute ratio for dividend sid=1876, ex_date=2017-11-09, amount=0.120\n",
      "Couldn't compute ratio for dividend sid=1922, ex_date=2017-11-09, amount=0.040\n",
      "Couldn't compute ratio for dividend sid=1947, ex_date=1990-03-26, amount=0.150\n",
      "Couldn't compute ratio for dividend sid=2098, ex_date=2017-11-09, amount=0.200\n",
      "Couldn't compute ratio for dividend sid=2118, ex_date=2014-11-06, amount=0.050\n",
      "Couldn't compute ratio for dividend sid=2120, ex_date=2017-11-09, amount=0.110\n",
      "Couldn't compute ratio for dividend sid=2149, ex_date=2017-11-09, amount=0.330\n",
      "Couldn't compute ratio for dividend sid=2204, ex_date=2017-11-09, amount=0.320\n",
      "Couldn't compute ratio for dividend sid=2220, ex_date=2017-11-09, amount=0.660\n",
      "Couldn't compute ratio for dividend sid=2281, ex_date=2017-11-09, amount=0.450\n",
      "Couldn't compute ratio for dividend sid=2389, ex_date=2017-11-09, amount=0.140\n",
      "Couldn't compute ratio for dividend sid=2441, ex_date=2017-11-09, amount=0.215\n",
      "Couldn't compute ratio for dividend sid=2517, ex_date=2017-11-09, amount=0.080\n",
      "Couldn't compute ratio for dividend sid=2582, ex_date=2017-11-09, amount=0.780\n",
      "Couldn't compute ratio for dividend sid=2622, ex_date=2017-11-09, amount=0.390\n",
      "Couldn't compute ratio for dividend sid=2662, ex_date=2015-01-14, amount=0.750\n",
      "Couldn't compute ratio for dividend sid=2754, ex_date=2000-12-27, amount=0.250\n",
      "Couldn't compute ratio for dividend sid=2754, ex_date=2009-09-11, amount=0.420\n",
      "Couldn't compute ratio for dividend sid=2754, ex_date=2009-12-11, amount=0.420\n",
      "Couldn't compute ratio for dividend sid=2754, ex_date=2010-03-11, amount=0.420\n",
      "Couldn't compute ratio for dividend sid=2754, ex_date=2010-12-15, amount=0.180\n",
      "Couldn't compute ratio for dividend sid=2766, ex_date=2017-11-09, amount=0.320\n",
      "Couldn't compute ratio for dividend sid=2798, ex_date=2017-11-09, amount=0.065\n",
      "Couldn't compute ratio for dividend sid=2817, ex_date=1992-03-03, amount=0.300\n",
      "Couldn't compute ratio for dividend sid=2824, ex_date=2017-11-09, amount=0.120\n",
      "Couldn't compute ratio for dividend sid=2843, ex_date=2017-11-09, amount=0.150\n",
      "Couldn't compute ratio for dividend sid=2857, ex_date=2011-09-07, amount=0.410\n",
      "Couldn't compute ratio for dividend sid=2968, ex_date=1990-03-26, amount=0.100\n",
      "Couldn't compute ratio for dividend sid=3005, ex_date=1990-03-26, amount=0.070\n",
      "Couldn't compute ratio for dividend sid=3078, ex_date=2014-05-12, amount=0.060\n",
      "Couldn't compute ratio for dividend sid=3117, ex_date=2017-11-09, amount=0.430\n",
      "Couldn't compute ratio for dividend sid=3138, ex_date=2010-08-16, amount=0.060\n",
      "Couldn't compute ratio for dividend sid=3145, ex_date=2017-11-09, amount=0.050\n",
      "Dividend ratio <= 0 for dividend sid=501, ex_date=2006-01-03, amount=41.560\n",
      "Dividend ratio <= 0 for dividend sid=1557, ex_date=2007-07-02, amount=88.530\n",
      "Dividend ratio <= 0 for dividend sid=1632, ex_date=2000-07-13, amount=181.000\n",
      "Dividend ratio <= 0 for dividend sid=1657, ex_date=2013-09-30, amount=21.355\n",
      "Dividend ratio <= 0 for dividend sid=1775, ex_date=1994-12-01, amount=76.000\n",
      "Dividend ratio <= 0 for dividend sid=1776, ex_date=1996-11-04, amount=36.708\n",
      "Dividend ratio <= 0 for dividend sid=2455, ex_date=2016-10-03, amount=25.611\n",
      "Dividend ratio <= 0 for dividend sid=2687, ex_date=2008-06-26, amount=10.000\n",
      "Dividend ratio <= 0 for dividend sid=2900, ex_date=2007-07-02, amount=88.530\n",
      "Dividend ratio <= 0 for dividend sid=3088, ex_date=2015-04-27, amount=31.291\n"
     ]
    }
   ],
   "source": [
    "# Set the QUANDL API key.\n",
    "# NOTE: Always keep API keys private. Consider using \n",
    "# environment variables or other secure methods.\n",
    "os.environ[\"QUANDL_API_KEY\"] = \"j8nJ7FtfX3vGX4hCiUdm\"\n",
    "\n",
    "# Ingest data from Quandl to be used with Zipline.\n",
    "bundles.ingest(\"quandl\")"
   ]
  },
  {
   "cell_type": "code",
   "execution_count": 27,
   "id": "e1a407db",
   "metadata": {},
   "outputs": [],
   "source": [
    "def initialize(context):\n",
    "    \"\"\"\n",
    "    Set up the initial values and settings for the trading algorithm.\n",
    "    Called once at the start of the algorithm.\n",
    "    \"\"\"\n",
    "    # List of ETFs that the algorithm will consider for trading.\n",
    "    context.symbols = [\n",
    "        symbol(\"FB\"),\n",
    "        symbol(\"AAPL\"),\n",
    "        symbol(\"AMZN\"),\n",
    "        symbol(\"NFLX\"),\n",
    "        symbol(\"GOOG\"),\n",
    "    ]\n",
    "\n",
    "    # Number of top-performing assets to trade each month.\n",
    "    context.traded_count = 3\n",
    "\n",
    "    # Lookback period: Number of days the algorithm will use to calculate momentum.\n",
    "    # (12 months * approx. 21 trading days per month)\n",
    "    context.lookback = 12 * 21\n",
    "\n",
    "    # Define the model for trading costs.\n",
    "    context.set_commission(commission.PerShare(cost=0.007, min_trade_cost=1.0))\n",
    "    \n",
    "    # Define the slippage model.\n",
    "    context.set_slippage(slippage.VolumeShareSlippage())\n",
    "\n",
    "    # Schedule a function to rebalance the portfolio at the start of each \n",
    "    # month when the market opens.\n",
    "    schedule_function(rebalance, date_rules.month_start(), time_rules.market_open())\n"
   ]
  },
  {
   "cell_type": "code",
   "execution_count": 28,
   "id": "5c25f7f0",
   "metadata": {},
   "outputs": [],
   "source": [
    "def rebalance(context, data):\n",
    "    \"\"\"\n",
    "    Execute orders according to our scheduled timing.\n",
    "    \"\"\"\n",
    "    # Fetching historical price data\n",
    "    hist = data.history(context.symbols, \"close\", context.lookback, \"1d\")\n",
    "    # Calculating momentum for each ETF\n",
    "    momentum = hist.pct_change().mean()\n",
    "    # Sorting ETFs by momentum\n",
    "    sorted_by_momentum = momentum.sort_values(ascending=False)\n",
    "    # Selecting the top 3 ETFs\n",
    "    selected_assets = sorted_by_momentum.index[: context.traded_count]\n",
    "    # Liquidating all positions not in the top 3\n",
    "    for asset in context.portfolio.positions:\n",
    "        if asset.symbol not in selected_assets:\n",
    "            order_target_percent(asset, 0)\n",
    "    # Placing orders for the top 3 ETFs\n",
    "    for asset in selected_assets:\n",
    "        order_target_percent(asset, 1 / context.traded_count)"
   ]
  },
  {
   "cell_type": "code",
   "execution_count": 37,
   "id": "e6f3926c",
   "metadata": {},
   "outputs": [],
   "source": [
    "# Defining our backtest period\n",
    "start = pd.Timestamp(\"2010-01-01\")\n",
    "end = pd.Timestamp(\"2018-12-31\")"
   ]
  },
  {
   "cell_type": "code",
   "execution_count": 38,
   "id": "359b58eb",
   "metadata": {
    "collapsed": true
   },
   "outputs": [
    {
     "name": "stderr",
     "output_type": "stream",
     "text": [
      "C:\\Users\\chadc\\AppData\\Local\\Temp\\tmpyrl36qrf\\ipykernel_11452\\347881908.py:8: FutureWarning: The default fill_method='pad' in DataFrame.pct_change is deprecated and will be removed in a future version. Either fill in any non-leading NA values prior to calling pct_change or specify 'fill_method=None' to not fill NA values.\n",
      "  momentum = hist.pct_change().mean()\n",
      "C:\\Users\\chadc\\anaconda3\\envs\\quant-stack\\lib\\site-packages\\zipline\\finance\\ledger.py:424: FutureWarning: Series.__setitem__ treating keys as positions is deprecated. In a future version, integer keys will always be treated as labels (consistent with DataFrame behavior). To set a value by position, use `ser.iloc[pos] = value`\n",
      "  self.daily_returns_series[session_ix] = self.todays_returns\n",
      "Cannot place order for NFLX, as it has de-listed. Any existing positions for this asset will be liquidated on 2018-03-28 00:00:00.\n",
      "Cannot place order for AMZN, as it has de-listed. Any existing positions for this asset will be liquidated on 2018-03-28 00:00:00.\n",
      "Cannot place order for GOOG, as it has de-listed. Any existing positions for this asset will be liquidated on 2018-03-28 00:00:00.\n",
      "Cannot place order for NFLX, as it has de-listed. Any existing positions for this asset will be liquidated on 2018-03-28 00:00:00.\n",
      "Cannot place order for AMZN, as it has de-listed. Any existing positions for this asset will be liquidated on 2018-03-28 00:00:00.\n",
      "Cannot place order for AAPL, as it has de-listed. Any existing positions for this asset will be liquidated on 2018-03-28 00:00:00.\n",
      "Cannot place order for NFLX, as it has de-listed. Any existing positions for this asset will be liquidated on 2018-03-28 00:00:00.\n",
      "Cannot place order for AMZN, as it has de-listed. Any existing positions for this asset will be liquidated on 2018-03-28 00:00:00.\n",
      "Cannot place order for AAPL, as it has de-listed. Any existing positions for this asset will be liquidated on 2018-03-28 00:00:00.\n",
      "Cannot place order for NFLX, as it has de-listed. Any existing positions for this asset will be liquidated on 2018-03-28 00:00:00.\n",
      "Cannot place order for AMZN, as it has de-listed. Any existing positions for this asset will be liquidated on 2018-03-28 00:00:00.\n",
      "Cannot place order for AAPL, as it has de-listed. Any existing positions for this asset will be liquidated on 2018-03-28 00:00:00.\n",
      "Cannot place order for NFLX, as it has de-listed. Any existing positions for this asset will be liquidated on 2018-03-28 00:00:00.\n",
      "Cannot place order for AMZN, as it has de-listed. Any existing positions for this asset will be liquidated on 2018-03-28 00:00:00.\n",
      "Cannot place order for GOOG, as it has de-listed. Any existing positions for this asset will be liquidated on 2018-03-28 00:00:00.\n",
      "Cannot place order for NFLX, as it has de-listed. Any existing positions for this asset will be liquidated on 2018-03-28 00:00:00.\n",
      "Cannot place order for AMZN, as it has de-listed. Any existing positions for this asset will be liquidated on 2018-03-28 00:00:00.\n",
      "Cannot place order for GOOG, as it has de-listed. Any existing positions for this asset will be liquidated on 2018-03-28 00:00:00.\n",
      "Cannot place order for NFLX, as it has de-listed. Any existing positions for this asset will be liquidated on 2018-03-28 00:00:00.\n",
      "Cannot place order for AMZN, as it has de-listed. Any existing positions for this asset will be liquidated on 2018-03-28 00:00:00.\n",
      "Cannot place order for AAPL, as it has de-listed. Any existing positions for this asset will be liquidated on 2018-03-28 00:00:00.\n",
      "Cannot place order for NFLX, as it has de-listed. Any existing positions for this asset will be liquidated on 2018-03-28 00:00:00.\n",
      "Cannot place order for AMZN, as it has de-listed. Any existing positions for this asset will be liquidated on 2018-03-28 00:00:00.\n",
      "Cannot place order for AAPL, as it has de-listed. Any existing positions for this asset will be liquidated on 2018-03-28 00:00:00.\n",
      "Cannot place order for NFLX, as it has de-listed. Any existing positions for this asset will be liquidated on 2018-03-28 00:00:00.\n",
      "Cannot place order for AMZN, as it has de-listed. Any existing positions for this asset will be liquidated on 2018-03-28 00:00:00.\n",
      "Cannot place order for GOOG, as it has de-listed. Any existing positions for this asset will be liquidated on 2018-03-28 00:00:00.\n"
     ]
    }
   ],
   "source": [
    "# Running the backtest\n",
    "perf = run_algorithm(\n",
    "    start=start,\n",
    "    end=end,\n",
    "    initialize=initialize,\n",
    "    capital_base=100000,\n",
    "    bundle=\"quandl\",\n",
    ")"
   ]
  },
  {
   "cell_type": "code",
   "execution_count": 39,
   "id": "d0c48a3a",
   "metadata": {},
   "outputs": [],
   "source": [
    "perf.to_pickle(\"strat_perf.pickle\")"
   ]
  },
  {
   "cell_type": "code",
   "execution_count": 40,
   "id": "dbce273d",
   "metadata": {},
   "outputs": [
    {
     "data": {
      "text/plain": [
       "<Axes: >"
      ]
     },
     "execution_count": 40,
     "metadata": {},
     "output_type": "execute_result"
    },
    {
     "data": {
      "image/png": "[encoded data removed]",
      "text/plain": [
       "<Figure size 640x480 with 1 Axes>"
      ]
     },
     "metadata": {},
     "output_type": "display_data"
    }
   ],
   "source": [
    "perf.portfolio_value.plot()"
   ]
  },
  {
   "cell_type": "code",
   "execution_count": null,
   "id": "6e28ee34",
   "metadata": {},
   "outputs": [],
   "source": []
  }
 ],
 "metadata": {
  "kernelspec": {
   "display_name": "Python 3 (ipykernel)",
   "language": "python",
   "name": "python3"
  },
  "language_info": {
   "codemirror_mode": {
    "name": "ipython",
    "version": 3
   },
   "file_extension": ".py",
   "mimetype": "text/x-python",
   "name": "python",
   "nbconvert_exporter": "python",
   "pygments_lexer": "ipython3",
   "version": "3.9.13"
  }
 },
 "nbformat": 4,
 "nbformat_minor": 5
}
