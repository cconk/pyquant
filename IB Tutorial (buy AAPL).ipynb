{
 "cells": [
  {
   "cell_type": "markdown",
   "id": "164adb73",
   "metadata": {},
   "source": [
    "## Buy AAPL"
   ]
  },
  {
   "cell_type": "markdown",
   "id": "078b2d1e",
   "metadata": {},
   "source": [
    "To buy a stock, you send information about what you want to buy to IB. The `app.placeOrder` method does all the hard work for you.\n",
    "\n",
    "First, import the classes from the IB API. Import threading to run the app in a single thread and time to pause execution of the script."
   ]
  },
  {
   "cell_type": "code",
   "execution_count": 15,
   "id": "1fbab5be",
   "metadata": {},
   "outputs": [],
   "source": [
    "from ibapi.client import EClient\n",
    "from ibapi.wrapper import EWrapper\n",
    "from ibapi.contract import Contract\n",
    "from ibapi.order import *\n",
    "\n",
    "import threading\n",
    "import time"
   ]
  },
  {
   "cell_type": "markdown",
   "id": "0d845bb0",
   "metadata": {},
   "source": [
    "This class creates the app. The app is what you use to interact with IB. This class inherits two classes from the IB API. If this doesn’t make sense, don’t worry. The API needs an order ID associated with every order. `nextValidId` is a built in function that finds the next available order ID."
   ]
  },
  {
   "cell_type": "code",
   "execution_count": null,
   "id": "c8299afe",
   "metadata": {},
   "outputs": [],
   "source": []
  },
  {
   "cell_type": "code",
   "execution_count": 16,
   "id": "82f5ff44",
   "metadata": {},
   "outputs": [],
   "source": [
    "class Parent(object):\n",
    "    name = \"Roger\""
   ]
  },
  {
   "cell_type": "code",
   "execution_count": 17,
   "id": "3433e7c2",
   "metadata": {},
   "outputs": [],
   "source": [
    "class Child(Parent):\n",
    "    def father_name(self):\n",
    "        return self.name"
   ]
  },
  {
   "cell_type": "code",
   "execution_count": 18,
   "id": "b8bc3b38",
   "metadata": {},
   "outputs": [],
   "source": [
    "jason = Child()"
   ]
  },
  {
   "cell_type": "code",
   "execution_count": 19,
   "id": "a1ee5e1c",
   "metadata": {},
   "outputs": [
    {
     "name": "stdout",
     "output_type": "stream",
     "text": [
      "Roger\n"
     ]
    }
   ],
   "source": [
    "print(jason.father_name())"
   ]
  },
  {
   "cell_type": "code",
   "execution_count": 20,
   "id": "9d5a2896",
   "metadata": {},
   "outputs": [],
   "source": [
    "class IBapi(EWrapper, EClient):\n",
    "    def __init__(self):\n",
    "        EClient.__init__(self, self)\n",
    "\n",
    "    def nextValidId(self, orderId: int):\n",
    "        super().nextValidId(orderId)\n",
    "        self.nextorderId = orderId\n",
    "        print(\"The next valid order id is: \", self.nextorderId)\n",
    "\n",
    "    def orderStatus(\n",
    "        self,\n",
    "        orderId,\n",
    "        status,\n",
    "        filled,\n",
    "        remaining,\n",
    "        avgFullPrice,\n",
    "        permId,\n",
    "        parentId,\n",
    "        lastFillPrice,\n",
    "        clientId,\n",
    "        whyHeld,\n",
    "        mktCapPrice,\n",
    "    ):\n",
    "        print(\n",
    "            \"orderStatus - orderid:\",\n",
    "            orderId,\n",
    "            \"status:\",\n",
    "            status,\n",
    "            \"filled\",\n",
    "            filled,\n",
    "            \"remaining\",\n",
    "            remaining,\n",
    "            \"lastFillPrice\",\n",
    "            lastFillPrice,\n",
    "        )\n",
    "\n",
    "    def openOrder(self, orderId, contract, order, orderState):\n",
    "        print(\n",
    "            \"openOrder id:\",\n",
    "            orderId,\n",
    "            contract.symbol,\n",
    "            contract.secType,\n",
    "            \"@\",\n",
    "            contract.exchange,\n",
    "            \":\",\n",
    "            order.action,\n",
    "            order.orderType,\n",
    "            order.totalQuantity,\n",
    "            orderState.status,\n",
    "        )\n",
    "\n",
    "    def execDetails(self, reqId, contract, execution):\n",
    "        print(\n",
    "            \"Order Executed: \",\n",
    "            reqId,\n",
    "            contract.symbol,\n",
    "            contract.secType,\n",
    "            contract.currency,\n",
    "            execution.execId,\n",
    "            execution.orderId,\n",
    "            execution.shares,\n",
    "            execution.lastLiquidity,\n",
    "        )"
   ]
  },
  {
   "cell_type": "markdown",
   "id": "5c218ee4",
   "metadata": {},
   "source": [
    "Next, create a function to run the app. Then, define a stock contract (IB calls everything a contract)."
   ]
  },
  {
   "cell_type": "code",
   "execution_count": 21,
   "id": "89b7fcca",
   "metadata": {},
   "outputs": [],
   "source": [
    "def run_loop():\n",
    "    app.run()\n",
    "\n",
    "\n",
    "def stock_contract(\n",
    "    symbol,\n",
    "    secType='STK',\n",
    "    exchange='SMART',\n",
    "    currency='USD'\n",
    "):\n",
    "    # create a stock contract\n",
    "    contract = Contract()\n",
    "    \n",
    "    contract.symbol = symbol\n",
    "    contract.secType = secType\n",
    "    contract.exchange = exchange\n",
    "    contract.currency = currency\n",
    "\n",
    "    return contract"
   ]
  },
  {
   "cell_type": "markdown",
   "id": "81967cd2",
   "metadata": {},
   "source": [
    "Now that the setup is out of the way, make the connection and start a thread. The while loop checks if the API is connected. If it is, `app.nextorderId` returns an `int`. Otherwise it returns `None`."
   ]
  },
  {
   "cell_type": "code",
   "execution_count": 25,
   "id": "6d3057f1",
   "metadata": {},
   "outputs": [
    {
     "name": "stderr",
     "output_type": "stream",
     "text": [
      "ERROR -1 2104 Market data farm connection is OK:usfarm.nj\n",
      "ERROR -1 2104 Market data farm connection is OK:usfuture\n",
      "ERROR -1 2104 Market data farm connection is OK:cashfarm\n",
      "ERROR -1 2104 Market data farm connection is OK:usopt\n",
      "ERROR -1 2104 Market data farm connection is OK:usfarm\n",
      "ERROR -1 2106 HMDS data farm connection is OK:euhmds\n",
      "ERROR -1 2106 HMDS data farm connection is OK:fundfarm\n",
      "ERROR -1 2106 HMDS data farm connection is OK:ushmds\n",
      "ERROR -1 2158 Sec-def data farm connection is OK:secdefil\n"
     ]
    },
    {
     "name": "stdout",
     "output_type": "stream",
     "text": [
      "waiting for connection\n",
      "The next valid order id is:  1\n",
      "connected\n"
     ]
    }
   ],
   "source": [
    "app = IBapi()\n",
    "app.connect('127.0.0.1', 7497, 123)\n",
    "\n",
    "app.nextorderId = None\n",
    "\n",
    "#Start the socket in a thread\n",
    "api_thread = threading.Thread(target=run_loop, daemon=True)\n",
    "api_thread.start()\n",
    "\n",
    "#Check if the API is connected via orderid\n",
    "while True:\n",
    "    if isinstance(app.nextorderId, int):\n",
    "        print('connected')\n",
    "        break\n",
    "    else:\n",
    "        print('waiting for connection')\n",
    "        time.sleep(1)"
   ]
  },
  {
   "cell_type": "markdown",
   "id": "d60c316d",
   "metadata": {},
   "source": [
    "This is where the core logic of your algorithm lives. In this case, I keep it simple and just 10 shares of AAPL.\n",
    "\n",
    "Create an order and send it to IB. IB expects the order to be a Python object with buy or sell, the quantity, and order type. Because I send a limit order, I set the limit price.\n",
    "\n",
    "Finally, I send the order, wait three seconds, cancel it for the sake of this demo, wait three more seconds, then disconnect the app."
   ]
  },
  {
   "cell_type": "code",
   "execution_count": 27,
   "id": "e895d2a1",
   "metadata": {},
   "outputs": [
    {
     "name": "stdout",
     "output_type": "stream",
     "text": [
      "openOrder id: 3 AAPL STK @ SMART : BUY LMT 100 Submitted\n",
      "orderStatus - orderid: 3 status: Submitted filled 0 remaining 100 lastFillPrice 0.0\n"
     ]
    }
   ],
   "source": [
    "order = Order()\n",
    "\n",
    "order.action = \"BUY\"\n",
    "order.totalQuantity = 100\n",
    "order.orderType = \"LMT\"\n",
    "order.lmtPrice = \"175.00\"\n",
    "order.eTradeOnly = \"\"\n",
    "order.firmQuoteOnly = \"\"\n",
    "\n",
    "app.nextorderId += 1\n",
    "\n",
    "app.placeOrder(\n",
    "    app.nextorderId, \n",
    "    stock_contract(\"AAPL\"), \n",
    "    order\n",
    ")"
   ]
  },
  {
   "cell_type": "code",
   "execution_count": 28,
   "id": "31eba1b3",
   "metadata": {},
   "outputs": [
    {
     "name": "stderr",
     "output_type": "stream",
     "text": [
      "ERROR 3 202 Order Canceled - reason:\n"
     ]
    },
    {
     "name": "stdout",
     "output_type": "stream",
     "text": [
      "cancelling order\n",
      "orderStatus - orderid: 3 status: Cancelled filled 0 remaining 100 lastFillPrice 0.0\n"
     ]
    }
   ],
   "source": [
    "# cancel the order for the demo\n",
    "print('cancelling order')\n",
    "app.cancelOrder(app.nextorderId, \"\")\n",
    "\n",
    "time.sleep(15)\n",
    "app.disconnect()"
   ]
  },
  {
   "cell_type": "code",
   "execution_count": null,
   "id": "058b2da5",
   "metadata": {},
   "outputs": [],
   "source": []
  }
 ],
 "metadata": {
  "kernelspec": {
   "display_name": "Python 3 (ipykernel)",
   "language": "python",
   "name": "python3"
  },
  "language_info": {
   "codemirror_mode": {
    "name": "ipython",
    "version": 3
   },
   "file_extension": ".py",
   "mimetype": "text/x-python",
   "name": "python",
   "nbconvert_exporter": "python",
   "pygments_lexer": "ipython3",
   "version": "3.9.13"
  }
 },
 "nbformat": 4,
 "nbformat_minor": 5
}
